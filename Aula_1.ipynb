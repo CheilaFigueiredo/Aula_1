{
 "cells": [
  {
   "cell_type": "markdown",
   "id": "b4e1df58",
   "metadata": {},
   "source": [
    "#Gerar automaticamente PDFs com Python\n",
    "- Descrição do projeto\n",
    "- Total de horas estimadas \n",
    "- Valor da hora de trabalho\n",
    "- Prazo de entrega estimado \n"
   ]
  },
  {
   "cell_type": "code",
   "execution_count": null,
   "id": "c5bd4842",
   "metadata": {},
   "outputs": [],
   "source": [
    "projeto = input (\"Digite a descrição do projeto: \")\n",
    "horas_estimadas = input (\"Digite  o valor total de horas estimdas: \")\n",
    "valor_horas = input (\"Digite o valor da hora trabalhada: \")\n",
    "prazo_estimado = input (\"Digite o prazo estimado: \")\n",
    "valor_total_estimado = int(horas_estimadas) * int(valor_horas)\n"
   ]
  },
  {
   "cell_type": "code",
   "execution_count": null,
   "id": "91c6ead0",
   "metadata": {},
   "outputs": [],
   "source": [
    "!pip install fpdf\n",
    "from fpdf import FPDF\n",
    "pdf = FPDF()\n",
    "pdf.add_page()\n",
    "pdf.set_font(\"Arial\")\n",
    "pdf.image(\"Aula_1.ipynb\", x=0, y=0)\n",
    "pdf.text(115, 145, projeto)\n",
    "pdf.text(115, 160, horas_estimadas)\n",
    "pdf.text(115, 175, valor_hora)\n",
    "pdf.text(115, 190, prazo_estimado)\n",
    "pdf.text(115, 205,str(valor_total_estimado))\n",
    "pdf.output(\"orçamento.pdf\")\n",
    "print(\"Orçamento gerado com sucesso!\")"
   ]
  },
  {
   "cell_type": "code",
   "execution_count": null,
   "id": "f609dd53",
   "metadata": {},
   "outputs": [],
   "source": []
  },
  {
   "cell_type": "code",
   "execution_count": null,
   "id": "d6b9841a",
   "metadata": {},
   "outputs": [],
   "source": []
  },
  {
   "cell_type": "code",
   "execution_count": null,
   "id": "bfae1e44",
   "metadata": {},
   "outputs": [],
   "source": []
  },
  {
   "cell_type": "code",
   "execution_count": null,
   "id": "a8df52e3",
   "metadata": {},
   "outputs": [],
   "source": []
  },
  {
   "cell_type": "code",
   "execution_count": null,
   "id": "1f2aea29",
   "metadata": {},
   "outputs": [],
   "source": []
  },
  {
   "cell_type": "code",
   "execution_count": null,
   "id": "e773cbdb",
   "metadata": {},
   "outputs": [],
   "source": []
  },
  {
   "cell_type": "code",
   "execution_count": null,
   "id": "982a097e",
   "metadata": {},
   "outputs": [],
   "source": []
  },
  {
   "cell_type": "code",
   "execution_count": null,
   "id": "6394dd1c",
   "metadata": {},
   "outputs": [],
   "source": []
  }
 ],
 "metadata": {
  "kernelspec": {
   "display_name": "Python 3 (ipykernel)",
   "language": "python",
   "name": "python3"
  },
  "language_info": {
   "codemirror_mode": {
    "name": "ipython",
    "version": 3
   },
   "file_extension": ".py",
   "mimetype": "text/x-python",
   "name": "python",
   "nbconvert_exporter": "python",
   "pygments_lexer": "ipython3",
   "version": "3.11.5"
  }
 },
 "nbformat": 4,
 "nbformat_minor": 5
}
